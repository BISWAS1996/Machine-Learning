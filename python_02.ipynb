{
 "cells": [
  {
   "cell_type": "code",
   "execution_count": 1,
   "id": "9bf271cb",
   "metadata": {},
   "outputs": [
    {
     "name": "stdout",
     "output_type": "stream",
     "text": [
      "ddsnc\n"
     ]
    }
   ],
   "source": [
    "print(\"ddsnc\")"
   ]
  },
  {
   "cell_type": "code",
   "execution_count": 7,
   "id": "49837b86",
   "metadata": {},
   "outputs": [
    {
     "name": "stdout",
     "output_type": "stream",
     "text": [
      "enter a lower number:2\n",
      "enter a upper number:20\n"
     ]
    }
   ],
   "source": [
    "# check prime number in arange\n",
    "upper=int(input(\"enter a lower number:\"))\n",
    "lower=int(input(\"enter a upper number:\"))\n",
    "\n",
    "for num in range(lower,upper+1):\n",
    "    if num>1:\n",
    "        for i in range(2,num):\n",
    "            if num%i==0:\n",
    "                break\n",
    "        else:\n",
    "            print(num)"
   ]
  },
  {
   "cell_type": "code",
   "execution_count": 10,
   "id": "e09ad5a1",
   "metadata": {},
   "outputs": [
    {
     "name": "stdout",
     "output_type": "stream",
     "text": [
      "enter a number:4\n",
      "the factorial is 24\n"
     ]
    }
   ],
   "source": [
    "# factorial of a number\n",
    "\n",
    "num=int(input(\"enter a number:\"))\n",
    "\n",
    "fact=1\n",
    "\n",
    "if num<0:\n",
    "    print(\"it is not a right number\")\n",
    "    \n",
    "if num==0:\n",
    "    print(\"the value is\",1)\n",
    "    \n",
    "if num>0:\n",
    "    for i in range(1,num+1):\n",
    "        \n",
    "        fact=fact*i\n",
    "        \n",
    "print(\"the factorial is\",fact)"
   ]
  },
  {
   "cell_type": "code",
   "execution_count": 12,
   "id": "4b9ebda2",
   "metadata": {},
   "outputs": [
    {
     "name": "stdout",
     "output_type": "stream",
     "text": [
      "enter a number:5\n",
      "the factorial of a given number 120\n"
     ]
    }
   ],
   "source": [
    "# factorial with recurssion\n",
    "\n",
    "\n",
    "n=int(input(\"enter a number:\"))\n",
    "\n",
    "def fact(n):\n",
    "    \n",
    "    if n==0:\n",
    "        return 1\n",
    "    \n",
    "    if n>0:\n",
    "        return n*fact(n-1)\n",
    "    \n",
    "print(\"the factorial of a given number\",fact(n))\n",
    "          "
   ]
  },
  {
   "cell_type": "code",
   "execution_count": 2,
   "id": "b1c82975",
   "metadata": {},
   "outputs": [
    {
     "name": "stdout",
     "output_type": "stream",
     "text": [
      "enter a number:5\n",
      "0\n",
      "1\n",
      "1\n",
      "2\n",
      "3\n",
      "5\n",
      "8\n"
     ]
    }
   ],
   "source": [
    "# fibnacci series\n",
    "\n",
    "a=0\n",
    "b=1\n",
    "\n",
    "num=int(input(\"enter a number:\"))\n",
    "\n",
    "\n",
    "if num==1:\n",
    "    print(a)\n",
    "    \n",
    "else:\n",
    "    print(a)\n",
    "    print(b)\n",
    "    \n",
    "    for i in range(1,num+1):\n",
    "        c=a+b\n",
    "        a=b\n",
    "        b=c\n",
    "        \n",
    "        print(c)\n"
   ]
  },
  {
   "cell_type": "code",
   "execution_count": 1,
   "id": "7828b887",
   "metadata": {},
   "outputs": [
    {
     "name": "stdout",
     "output_type": "stream",
     "text": [
      "15\n",
      "30\n",
      "45\n",
      "60\n",
      "75\n",
      "90\n"
     ]
    }
   ],
   "source": [
    "# number divisible by another number\n",
    "\n",
    "\n",
    "for i in range(1,100):\n",
    "    \n",
    "    if i%15==0:\n",
    "        print(i)"
   ]
  },
  {
   "cell_type": "code",
   "execution_count": 3,
   "id": "dc5dd163",
   "metadata": {},
   "outputs": [
    {
     "name": "stdout",
     "output_type": "stream",
     "text": [
      "the divisible numbers are with 5 [25, 35, 85, 45]\n"
     ]
    }
   ],
   "source": [
    "# number divisible by another number by lambda function\n",
    "\n",
    "l=[25,35,85,45,62,42,84,36]\n",
    "\n",
    "result=list(filter(lambda x:x%5==0,l))\n",
    "\n",
    "print(\"the divisible numbers are with 5\",result)"
   ]
  },
  {
   "cell_type": "code",
   "execution_count": 5,
   "id": "57e5582d",
   "metadata": {},
   "outputs": [
    {
     "name": "stdout",
     "output_type": "stream",
     "text": [
      "enter a number:5\n",
      "0b101\n",
      "0o5\n",
      "0x5\n"
     ]
    }
   ],
   "source": [
    "#decimal to binary,octal,hexadecimal\n",
    "\n",
    "num=int(input(\"enter a number:\"))\n",
    "\n",
    "print(bin(num))\n",
    "\n",
    "print(oct(num))\n",
    "\n",
    "print(hex(num))"
   ]
  },
  {
   "cell_type": "code",
   "execution_count": 8,
   "id": "a31b7efc",
   "metadata": {},
   "outputs": [
    {
     "name": "stdout",
     "output_type": "stream",
     "text": [
      "enter a value:p\n",
      "112\n"
     ]
    }
   ],
   "source": [
    "# ASCII VALUE\n",
    "\n",
    "char=input(\"enter a value:\")\n",
    "\n",
    "print(ord(char))"
   ]
  },
  {
   "cell_type": "code",
   "execution_count": 14,
   "id": "726556fa",
   "metadata": {},
   "outputs": [
    {
     "name": "stdout",
     "output_type": "stream",
     "text": [
      "the hcf of these number: 5\n"
     ]
    }
   ],
   "source": [
    "# calculate HCF or gcd\n",
    "\n",
    "def num(x,y):\n",
    "    \n",
    "    if x>y:\n",
    "        smaller=y\n",
    "    else:\n",
    "        smaller=x\n",
    "    \n",
    "    for i in range(1,smaller+1):\n",
    "        \n",
    "        if((x % i==0) and (y % i==0)):\n",
    "            \n",
    "            hcf=i\n",
    "            \n",
    "    return hcf\n",
    "    \n",
    "    \n",
    "print(\"the hcf of these number:\",num(20,45))\n",
    "    \n",
    "    "
   ]
  },
  {
   "cell_type": "code",
   "execution_count": 15,
   "id": "e9bb27dc",
   "metadata": {},
   "outputs": [
    {
     "name": "stdout",
     "output_type": "stream",
     "text": [
      "enter a number:15\n",
      "1\n",
      "3\n",
      "5\n",
      "15\n"
     ]
    }
   ],
   "source": [
    "# factor of a number\n",
    "\n",
    "num=int(input('enter a number:'))\n",
    "\n",
    "for i in range(1,num+1):\n",
    "    if num%i==0:\n",
    "        print(i)"
   ]
  },
  {
   "cell_type": "code",
   "execution_count": 17,
   "id": "d3b3ea8f",
   "metadata": {},
   "outputs": [
    {
     "name": "stdout",
     "output_type": "stream",
     "text": [
      "enter first number:12\n",
      "enter second number:10\n",
      "press 1 for addition\n",
      " press 2 for sub\n",
      " press 3 for mult\n",
      " press 4 for divition\n",
      "press 1 to 4:1\n",
      "22.0\n"
     ]
    }
   ],
   "source": [
    "#mini calculator\n",
    "\n",
    "num1=float(input(\"enter first number:\"))\n",
    "num2=float(input(\"enter second number:\"))\n",
    "\n",
    "print(\"press 1 for addition\\n press 2 for sub\\n press 3 for mult\\n press 4 for divition\")\n",
    "\n",
    "choice=int(input(\"press 1 to 4:\"))\n",
    "\n",
    "if choice==1:\n",
    "    print(num1+num2)\n",
    "elif choice==2:\n",
    "    print(num1-num2)\n",
    "elif choice==3:\n",
    "    print(num1*num2)\n",
    "else:\n",
    "    print(num1/num2)"
   ]
  },
  {
   "cell_type": "code",
   "execution_count": 18,
   "id": "d202dd46",
   "metadata": {},
   "outputs": [
    {
     "name": "stdout",
     "output_type": "stream",
     "text": [
      "[(1, 'tas'), (1, 'tds'), (1, 'uyt'), (2, 'tas'), (2, 'tds'), (2, 'uyt'), (3, 'tas'), (3, 'tds'), (3, 'uyt'), (4, 'tas'), (4, 'tds'), (4, 'uyt')]\n"
     ]
    }
   ],
   "source": [
    "#deck card\n",
    "\n",
    "import random,itertools\n",
    "\n",
    "deck=list(itertools.product(range(1,5),['tas','tds','uyt']))\n",
    "\n",
    "print(deck)"
   ]
  },
  {
   "cell_type": "code",
   "execution_count": null,
   "id": "25eb559d",
   "metadata": {},
   "outputs": [],
   "source": []
  }
 ],
 "metadata": {
  "kernelspec": {
   "display_name": "Python 3 (ipykernel)",
   "language": "python",
   "name": "python3"
  },
  "language_info": {
   "codemirror_mode": {
    "name": "ipython",
    "version": 3
   },
   "file_extension": ".py",
   "mimetype": "text/x-python",
   "name": "python",
   "nbconvert_exporter": "python",
   "pygments_lexer": "ipython3",
   "version": "3.9.13"
  }
 },
 "nbformat": 4,
 "nbformat_minor": 5
}
